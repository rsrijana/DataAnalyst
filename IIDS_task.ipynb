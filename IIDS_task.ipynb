{
  "nbformat": 4,
  "nbformat_minor": 0,
  "metadata": {
    "colab": {
      "provenance": [],
      "toc_visible": true,
      "authorship_tag": "ABX9TyN/lyoqOCzvyN4rEnxQyMCk",
      "include_colab_link": true
    },
    "kernelspec": {
      "name": "python3",
      "display_name": "Python 3"
    },
    "language_info": {
      "name": "python"
    }
  },
  "cells": [
    {
      "cell_type": "markdown",
      "metadata": {
        "id": "view-in-github",
        "colab_type": "text"
      },
      "source": [
        "<a href=\"https://colab.research.google.com/github/rsrijana/DataAnalyst/blob/main/IIDS_task.ipynb\" target=\"_parent\"><img src=\"https://colab.research.google.com/assets/colab-badge.svg\" alt=\"Open In Colab\"/></a>"
      ]
    },
    {
      "cell_type": "code",
      "execution_count": null,
      "metadata": {
        "colab": {
          "base_uri": "https://localhost:8080/"
        },
        "id": "HNXbx21wOYC-",
        "outputId": "df99e93e-d8c3-4cbc-843d-a3b6e0abf8bb"
      },
      "outputs": [
        {
          "output_type": "stream",
          "name": "stdout",
          "text": [
            "     A    B    C\n",
            "0  1.0  5.0  9.0\n"
          ]
        }
      ],
      "source": [
        "import pandas as pd\n",
        "import numpy as np\n",
        "\n",
        "data = {\n",
        "    'A': [1, 2, np.nan, 4],\n",
        "    'B': [5, np.nan, 7, 8],\n",
        "    'C': [9, 10, 11, np.nan]\n",
        "}\n",
        "df = pd.DataFrame(data)\n",
        "df_cleaned = df.dropna() # Drop rows with any missing values\n",
        "print(df_cleaned)"
      ]
    },
    {
      "cell_type": "code",
      "source": [
        "import pandas as pd\n",
        "import numpy as np\n",
        "\n",
        "data = {'Name': ['srijana', 'jaa', 'sree'], 'Age': [20, 15, 22]}\n",
        "df  = pd.DataFrame(data)\n",
        "print(df)"
      ],
      "metadata": {
        "colab": {
          "base_uri": "https://localhost:8080/"
        },
        "id": "s6P3W98_Oflr",
        "outputId": "a343eb08-f099-4507-cfee-c0554e501286"
      },
      "execution_count": null,
      "outputs": [
        {
          "output_type": "stream",
          "name": "stdout",
          "text": [
            "      Name  Age\n",
            "0  srijana   20\n",
            "1      jaa   15\n",
            "2     sree   22\n"
          ]
        }
      ]
    },
    {
      "cell_type": "code",
      "source": [
        "import pandas as pd\n",
        "import numpy as np\n",
        "read_date = pd.read_excel('/content/Employeeinfo.xlsx')\n",
        "clead_data = read_date.dropna()\n",
        "print(clead_data)"
      ],
      "metadata": {
        "colab": {
          "base_uri": "https://localhost:8080/"
        },
        "id": "pI-hQrLjckmw",
        "outputId": "d1fcab66-3e2c-4d46-d3f2-06eb8bffcfa0"
      },
      "execution_count": null,
      "outputs": [
        {
          "output_type": "stream",
          "name": "stdout",
          "text": [
            "    Employee_ID      Name   Department   Salary  Hire_Date\n",
            "0             1   Alice A      Finance  75000.0 2019-05-15\n",
            "1             2       Ram  Engineering  82000.0 2020-07-22\n",
            "4             5     Ram J      Finance  77000.0 2019-12-01\n",
            "6             7     Heena           HR  59000.0 2017-04-23\n",
            "7             8      Rita  Engineering  88000.0 2019-09-30\n",
            "10           11     Mohan      Finance  80000.0 2021-02-11\n",
            "12           13  Ram hari           HR  61000.0 2020-04-15\n",
            "13           14      Jack      Finance  73000.0 2018-10-02\n",
            "16           17     Grace           HR  54000.0 2020-06-25\n",
            "17           18     Jeena      Finance  81000.0 2018-09-18\n",
            "19           20      Alex           HR  60000.0 2019-08-14\n"
          ]
        }
      ]
    },
    {
      "cell_type": "code",
      "source": [
        "avg_salary = df[\"Salary\"].mean()\n",
        "print(avg_salary)\n",
        "max_salary = df[\"Salary\"].max()\n",
        "print(max_salary)\n",
        "min_salary = df[\"Salary\"].min()\n",
        "print(min_salary)"
      ],
      "metadata": {
        "colab": {
          "base_uri": "https://localhost:8080/"
        },
        "id": "g1cUAy8AdDPX",
        "outputId": "f6e3baf4-7b4f-4212-865c-d950381c210c"
      },
      "execution_count": null,
      "outputs": [
        {
          "output_type": "stream",
          "name": "stdout",
          "text": [
            "71818.18181818182\n",
            "88000.0\n",
            "54000.0\n"
          ]
        }
      ]
    },
    {
      "cell_type": "code",
      "source": [],
      "metadata": {
        "id": "NQ1ixFZugt-w"
      },
      "execution_count": null,
      "outputs": []
    }
  ]
}